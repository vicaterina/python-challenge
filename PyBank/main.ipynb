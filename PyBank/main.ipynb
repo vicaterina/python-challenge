#Read in file budget_data.csv
import pandas as pd

data=pd.read_csv("budget_data.csv")

data.head()



#Calculate the total months included in the dataset

#Calculate and Print the net total Profit/Losses over the entire period (dataset)

#Calculate and Print the average of the changes in "Profit/Losses" over the entire period (dataset)

#Calculate and Print the greatest increases in Profits (date and amount) over the entire period

#Calculate and Print the greatest decrease in losses (date and amount) over the entire period

#Export the results (print statements) to a text file